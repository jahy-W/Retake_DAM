{
 "cells": [
  {
   "cell_type": "markdown",
   "metadata": {},
   "source": [
    "Here we will try to predict price of the diamond using 17 features\n",
    "\n",
    "Link to kaggle: <https://www.kaggle.com/datasets/beridzeg45/diamonds-prices-prediction/data>"
   ]
  },
  {
   "cell_type": "code",
   "execution_count": 61,
   "metadata": {},
   "outputs": [
    {
     "data": {
      "text/html": [
       "<div>\n",
       "<style scoped>\n",
       "    .dataframe tbody tr th:only-of-type {\n",
       "        vertical-align: middle;\n",
       "    }\n",
       "\n",
       "    .dataframe tbody tr th {\n",
       "        vertical-align: top;\n",
       "    }\n",
       "\n",
       "    .dataframe thead th {\n",
       "        text-align: right;\n",
       "    }\n",
       "</style>\n",
       "<table border=\"1\" class=\"dataframe\">\n",
       "  <thead>\n",
       "    <tr style=\"text-align: right;\">\n",
       "      <th></th>\n",
       "      <th>Shape</th>\n",
       "      <th>Cut</th>\n",
       "      <th>Color</th>\n",
       "      <th>Clarity</th>\n",
       "      <th>Carat Weight</th>\n",
       "      <th>Length/Width Ratio</th>\n",
       "      <th>Depth %</th>\n",
       "      <th>Table %</th>\n",
       "      <th>Polish</th>\n",
       "      <th>Symmetry</th>\n",
       "      <th>Girdle</th>\n",
       "      <th>Culet</th>\n",
       "      <th>Length</th>\n",
       "      <th>Width</th>\n",
       "      <th>Height</th>\n",
       "      <th>Price</th>\n",
       "      <th>Type</th>\n",
       "      <th>Fluorescence</th>\n",
       "    </tr>\n",
       "  </thead>\n",
       "  <tbody>\n",
       "    <tr>\n",
       "      <th>0</th>\n",
       "      <td>Cushion Modified</td>\n",
       "      <td>Ideal</td>\n",
       "      <td>F</td>\n",
       "      <td>VVS2</td>\n",
       "      <td>1.84</td>\n",
       "      <td>1.02</td>\n",
       "      <td>65.8</td>\n",
       "      <td>59.0</td>\n",
       "      <td>Excellent</td>\n",
       "      <td>Very Good</td>\n",
       "      <td>Medium to Thick</td>\n",
       "      <td>NaN</td>\n",
       "      <td>7.09</td>\n",
       "      <td>6.95</td>\n",
       "      <td>4.57</td>\n",
       "      <td>2640</td>\n",
       "      <td>GIA Lab-Grown</td>\n",
       "      <td>NaN</td>\n",
       "    </tr>\n",
       "    <tr>\n",
       "      <th>1</th>\n",
       "      <td>Pear</td>\n",
       "      <td>NaN</td>\n",
       "      <td>E</td>\n",
       "      <td>VS1</td>\n",
       "      <td>1.20</td>\n",
       "      <td>1.65</td>\n",
       "      <td>62.5</td>\n",
       "      <td>58.0</td>\n",
       "      <td>Very Good</td>\n",
       "      <td>Very Good</td>\n",
       "      <td>Medium to Thick</td>\n",
       "      <td>NaN</td>\n",
       "      <td>9.64</td>\n",
       "      <td>5.86</td>\n",
       "      <td>3.66</td>\n",
       "      <td>1070</td>\n",
       "      <td>GIA Lab-Grown</td>\n",
       "      <td>NaN</td>\n",
       "    </tr>\n",
       "    <tr>\n",
       "      <th>2</th>\n",
       "      <td>Oval</td>\n",
       "      <td>NaN</td>\n",
       "      <td>E</td>\n",
       "      <td>VS1</td>\n",
       "      <td>1.19</td>\n",
       "      <td>1.41</td>\n",
       "      <td>63.1</td>\n",
       "      <td>63.0</td>\n",
       "      <td>Very Good</td>\n",
       "      <td>Very Good</td>\n",
       "      <td>Medium to Thick</td>\n",
       "      <td>NaN</td>\n",
       "      <td>8.44</td>\n",
       "      <td>6.00</td>\n",
       "      <td>3.79</td>\n",
       "      <td>1070</td>\n",
       "      <td>GIA Lab-Grown</td>\n",
       "      <td>NaN</td>\n",
       "    </tr>\n",
       "    <tr>\n",
       "      <th>3</th>\n",
       "      <td>Heart</td>\n",
       "      <td>NaN</td>\n",
       "      <td>D</td>\n",
       "      <td>IF</td>\n",
       "      <td>1.00</td>\n",
       "      <td>1.18</td>\n",
       "      <td>61.7</td>\n",
       "      <td>58.0</td>\n",
       "      <td>Excellent</td>\n",
       "      <td>Excellent</td>\n",
       "      <td>Slightly Thick to Very Thick</td>\n",
       "      <td>NaN</td>\n",
       "      <td>5.85</td>\n",
       "      <td>6.89</td>\n",
       "      <td>4.25</td>\n",
       "      <td>7110</td>\n",
       "      <td>GIA</td>\n",
       "      <td>Faint</td>\n",
       "    </tr>\n",
       "    <tr>\n",
       "      <th>4</th>\n",
       "      <td>Radiant</td>\n",
       "      <td>NaN</td>\n",
       "      <td>H</td>\n",
       "      <td>VS1</td>\n",
       "      <td>1.01</td>\n",
       "      <td>1.35</td>\n",
       "      <td>69.4</td>\n",
       "      <td>66.0</td>\n",
       "      <td>Excellent</td>\n",
       "      <td>Very Good</td>\n",
       "      <td>Thick</td>\n",
       "      <td>NaN</td>\n",
       "      <td>6.80</td>\n",
       "      <td>5.05</td>\n",
       "      <td>3.50</td>\n",
       "      <td>3050</td>\n",
       "      <td>GIA</td>\n",
       "      <td>NaN</td>\n",
       "    </tr>\n",
       "  </tbody>\n",
       "</table>\n",
       "</div>"
      ],
      "text/plain": [
       "              Shape    Cut Color Clarity  Carat Weight  Length/Width Ratio  \\\n",
       "0  Cushion Modified  Ideal     F    VVS2          1.84                1.02   \n",
       "1              Pear    NaN     E     VS1          1.20                1.65   \n",
       "2              Oval    NaN     E     VS1          1.19                1.41   \n",
       "3             Heart    NaN     D      IF          1.00                1.18   \n",
       "4           Radiant    NaN     H     VS1          1.01                1.35   \n",
       "\n",
       "   Depth %  Table %     Polish   Symmetry                        Girdle Culet  \\\n",
       "0     65.8     59.0  Excellent  Very Good               Medium to Thick   NaN   \n",
       "1     62.5     58.0  Very Good  Very Good               Medium to Thick   NaN   \n",
       "2     63.1     63.0  Very Good  Very Good               Medium to Thick   NaN   \n",
       "3     61.7     58.0  Excellent  Excellent  Slightly Thick to Very Thick   NaN   \n",
       "4     69.4     66.0  Excellent  Very Good                         Thick   NaN   \n",
       "\n",
       "   Length  Width  Height  Price           Type Fluorescence  \n",
       "0    7.09   6.95    4.57   2640  GIA Lab-Grown          NaN  \n",
       "1    9.64   5.86    3.66   1070  GIA Lab-Grown          NaN  \n",
       "2    8.44   6.00    3.79   1070  GIA Lab-Grown          NaN  \n",
       "3    5.85   6.89    4.25   7110            GIA        Faint  \n",
       "4    6.80   5.05    3.50   3050            GIA          NaN  "
      ]
     },
     "execution_count": 61,
     "metadata": {},
     "output_type": "execute_result"
    }
   ],
   "source": [
    "import pandas as pd\n",
    "import numpy as np\n",
    "import matplotlib.pyplot as plt\n",
    "import random\n",
    "\n",
    "RANDOM_STATE = 777\n",
    "random.seed(RANDOM_STATE)\n",
    "\n",
    "df = pd.read_csv('diamonds (cleaned).csv')\n",
    "df.head(5)"
   ]
  },
  {
   "cell_type": "markdown",
   "metadata": {},
   "source": [
    "Firstly lets see info"
   ]
  },
  {
   "cell_type": "code",
   "execution_count": 62,
   "metadata": {},
   "outputs": [
    {
     "name": "stdout",
     "output_type": "stream",
     "text": [
      "<class 'pandas.core.frame.DataFrame'>\n",
      "RangeIndex: 6485 entries, 0 to 6484\n",
      "Data columns (total 18 columns):\n",
      " #   Column              Non-Null Count  Dtype  \n",
      "---  ------              --------------  -----  \n",
      " 0   Shape               6480 non-null   object \n",
      " 1   Cut                 2182 non-null   object \n",
      " 2   Color               6480 non-null   object \n",
      " 3   Clarity             6480 non-null   object \n",
      " 4   Carat Weight        6480 non-null   float64\n",
      " 5   Length/Width Ratio  6480 non-null   float64\n",
      " 6   Depth %             6478 non-null   float64\n",
      " 7   Table %             6468 non-null   float64\n",
      " 8   Polish              6465 non-null   object \n",
      " 9   Symmetry            6465 non-null   object \n",
      " 10  Girdle              6463 non-null   object \n",
      " 11  Culet               1891 non-null   object \n",
      " 12  Length              6465 non-null   float64\n",
      " 13  Width               6465 non-null   float64\n",
      " 14  Height              6465 non-null   float64\n",
      " 15  Price               6485 non-null   int64  \n",
      " 16  Type                6485 non-null   object \n",
      " 17  Fluorescence        1221 non-null   object \n",
      "dtypes: float64(7), int64(1), object(10)\n",
      "memory usage: 912.1+ KB\n"
     ]
    }
   ],
   "source": [
    "df.info()"
   ]
  },
  {
   "cell_type": "code",
   "execution_count": 63,
   "metadata": {},
   "outputs": [
    {
     "data": {
      "text/plain": [
       "Shape                    5\n",
       "Cut                   4303\n",
       "Color                    5\n",
       "Clarity                  5\n",
       "Carat Weight             5\n",
       "Length/Width Ratio       5\n",
       "Depth %                  7\n",
       "Table %                 17\n",
       "Polish                  20\n",
       "Symmetry                20\n",
       "Girdle                  22\n",
       "Culet                 4594\n",
       "Length                  20\n",
       "Width                   20\n",
       "Height                  20\n",
       "Price                    0\n",
       "Type                     0\n",
       "Fluorescence          5264\n",
       "dtype: int64"
      ]
     },
     "execution_count": 63,
     "metadata": {},
     "output_type": "execute_result"
    }
   ],
   "source": [
    "df.isna().sum()"
   ]
  },
  {
   "cell_type": "markdown",
   "metadata": {},
   "source": [
    "As wee can see, there are 3 categories, where NaN values dominate other categories: Cut, Culet and Fluorescence. Let's calculate Kramer's correlation between all these features; between each of them and Price"
   ]
  },
  {
   "cell_type": "code",
   "execution_count": 64,
   "metadata": {},
   "outputs": [
    {
     "name": "stdout",
     "output_type": "stream",
     "text": [
      "('Culet', 'Cut', np.float64(0.8933195408028406))\n",
      "('Fluorescence', 'Cut', np.float64(0.18555627767058733))\n",
      "('Fluorescence', 'Culet', np.float64(0.4906533814626582))\n",
      "\n",
      "('Cut', 'Price', np.float64(0.6994347710864145))\n",
      "('Culet', 'Price', np.float64(0.9052153559717191))\n",
      "('Fluorescence', 'Price', np.float64(0.5855121948458868))\n"
     ]
    }
   ],
   "source": [
    "from scipy.stats import chi2_contingency\n",
    "import numpy as np\n",
    "\n",
    "def cramers_v(x, y):\n",
    "    confusion_matrix = pd.crosstab(x, y)\n",
    "    chi2 = chi2_contingency(confusion_matrix)[0]\n",
    "    n = sum(confusion_matrix.sum())\n",
    "    return np.sqrt(chi2 / (n * (min(confusion_matrix.shape) - 1)))\n",
    "\n",
    "features = ['Cut', 'Culet', 'Fluorescence']\n",
    "for i in range(len(features)):\n",
    "    for j in range(i):\n",
    "        print(f\"{features[i], features[j], cramers_v(df[features[i]], df[features[j]])}\")\n",
    "print()\n",
    "for i in features:\n",
    "     print(f\"{i, 'Price', cramers_v(df[i], df.Price)}\")"
   ]
  },
  {
   "cell_type": "markdown",
   "metadata": {},
   "source": [
    "As wee can notice, Cut and Culet are important for prediction. Fluorescence less, but also have correlation with price. Now lets find number of unique labels of each feature"
   ]
  },
  {
   "cell_type": "code",
   "execution_count": 65,
   "metadata": {},
   "outputs": [
    {
     "name": "stdout",
     "output_type": "stream",
     "text": [
      "Cut 4\n",
      "Culet 4\n",
      "Fluorescence 3\n"
     ]
    },
    {
     "data": {
      "text/plain": [
       "11"
      ]
     },
     "execution_count": 65,
     "metadata": {},
     "output_type": "execute_result"
    }
   ],
   "source": [
    "cnt = 0\n",
    "categorical_features = df.select_dtypes(include=['object']).columns\n",
    "for i in features:\n",
    "    print(i, len(df[i].value_counts().unique()))\n",
    "    cnt += len(df[i].value_counts().unique())\n",
    "cnt"
   ]
  },
  {
   "cell_type": "markdown",
   "metadata": {},
   "source": [
    "Not much. It means that we can use OHE for encoding data.\n",
    "And I decided to make additional label \"Not Given\" for Cut, Culet and Fluorescence and fill all NaN with such label. Because NaN dominates and filling with most popular label is not good idea. Okay, lets fill NaN."
   ]
  },
  {
   "cell_type": "code",
   "execution_count": 66,
   "metadata": {},
   "outputs": [
    {
     "data": {
      "text/plain": [
       "Shape                 0\n",
       "Cut                   0\n",
       "Color                 0\n",
       "Clarity               0\n",
       "Carat Weight          0\n",
       "Length/Width Ratio    0\n",
       "Depth %               0\n",
       "Table %               0\n",
       "Polish                0\n",
       "Symmetry              0\n",
       "Girdle                0\n",
       "Culet                 0\n",
       "Length                0\n",
       "Width                 0\n",
       "Height                0\n",
       "Price                 0\n",
       "Type                  0\n",
       "Fluorescence          0\n",
       "dtype: int64"
      ]
     },
     "execution_count": 66,
     "metadata": {},
     "output_type": "execute_result"
    }
   ],
   "source": [
    "\n",
    "df.Price = df.Price.astype('float64')\n",
    "numeric_features = df.select_dtypes(include=['number']).columns\n",
    "numeric_features = numeric_features.drop('Price')\n",
    "\n",
    "categorical_values = {i: df[i].mode()[0] for i in categorical_features}\n",
    "categorical_values['Cut'] = 'Not Given'\n",
    "categorical_values['Culet'] = 'Not Given'\n",
    "categorical_values['Fluorescence'] = 'Not Given'\n",
    "\n",
    "numeric_values = df[numeric_features].median()\n",
    "\n",
    "df.fillna(categorical_values, inplace=True)\n",
    "df.fillna(numeric_values, inplace=True)\n",
    "\n",
    "df.isna().sum()"
   ]
  },
  {
   "cell_type": "code",
   "execution_count": 67,
   "metadata": {},
   "outputs": [
    {
     "data": {
      "text/html": [
       "<div>\n",
       "<style scoped>\n",
       "    .dataframe tbody tr th:only-of-type {\n",
       "        vertical-align: middle;\n",
       "    }\n",
       "\n",
       "    .dataframe tbody tr th {\n",
       "        vertical-align: top;\n",
       "    }\n",
       "\n",
       "    .dataframe thead th {\n",
       "        text-align: right;\n",
       "    }\n",
       "</style>\n",
       "<table border=\"1\" class=\"dataframe\">\n",
       "  <thead>\n",
       "    <tr style=\"text-align: right;\">\n",
       "      <th></th>\n",
       "      <th>Shape</th>\n",
       "      <th>Cut</th>\n",
       "      <th>Color</th>\n",
       "      <th>Clarity</th>\n",
       "      <th>Carat Weight</th>\n",
       "      <th>Length/Width Ratio</th>\n",
       "      <th>Depth %</th>\n",
       "      <th>Table %</th>\n",
       "      <th>Polish</th>\n",
       "      <th>Symmetry</th>\n",
       "      <th>Girdle</th>\n",
       "      <th>Culet</th>\n",
       "      <th>Length</th>\n",
       "      <th>Width</th>\n",
       "      <th>Height</th>\n",
       "      <th>Price</th>\n",
       "      <th>Type</th>\n",
       "      <th>Fluorescence</th>\n",
       "    </tr>\n",
       "  </thead>\n",
       "  <tbody>\n",
       "    <tr>\n",
       "      <th>2360</th>\n",
       "      <td>Pear</td>\n",
       "      <td>Not Given</td>\n",
       "      <td>E</td>\n",
       "      <td>VS2</td>\n",
       "      <td>1.01</td>\n",
       "      <td>1.60</td>\n",
       "      <td>58.8</td>\n",
       "      <td>55.0</td>\n",
       "      <td>Excellent</td>\n",
       "      <td>Excellent</td>\n",
       "      <td>Thick to Very Thick</td>\n",
       "      <td>Not Given</td>\n",
       "      <td>8.92</td>\n",
       "      <td>5.58</td>\n",
       "      <td>3.29</td>\n",
       "      <td>4870.0</td>\n",
       "      <td>GIA</td>\n",
       "      <td>Faint</td>\n",
       "    </tr>\n",
       "    <tr>\n",
       "      <th>3873</th>\n",
       "      <td>Radiant</td>\n",
       "      <td>Not Given</td>\n",
       "      <td>F</td>\n",
       "      <td>VS2</td>\n",
       "      <td>1.02</td>\n",
       "      <td>1.30</td>\n",
       "      <td>68.2</td>\n",
       "      <td>66.0</td>\n",
       "      <td>Excellent</td>\n",
       "      <td>Excellent</td>\n",
       "      <td>Slightly Thick to Thick</td>\n",
       "      <td>Not Given</td>\n",
       "      <td>6.56</td>\n",
       "      <td>5.04</td>\n",
       "      <td>3.44</td>\n",
       "      <td>3990.0</td>\n",
       "      <td>GIA</td>\n",
       "      <td>Not Given</td>\n",
       "    </tr>\n",
       "    <tr>\n",
       "      <th>1970</th>\n",
       "      <td>Oval</td>\n",
       "      <td>Not Given</td>\n",
       "      <td>D</td>\n",
       "      <td>VS1</td>\n",
       "      <td>1.01</td>\n",
       "      <td>1.66</td>\n",
       "      <td>62.5</td>\n",
       "      <td>63.0</td>\n",
       "      <td>Excellent</td>\n",
       "      <td>Very Good</td>\n",
       "      <td>Slightly Thick to Very Thick</td>\n",
       "      <td>Not Given</td>\n",
       "      <td>8.79</td>\n",
       "      <td>5.31</td>\n",
       "      <td>3.32</td>\n",
       "      <td>4820.0</td>\n",
       "      <td>GIA</td>\n",
       "      <td>Not Given</td>\n",
       "    </tr>\n",
       "    <tr>\n",
       "      <th>3584</th>\n",
       "      <td>Pear</td>\n",
       "      <td>Not Given</td>\n",
       "      <td>E</td>\n",
       "      <td>VS2</td>\n",
       "      <td>1.00</td>\n",
       "      <td>1.48</td>\n",
       "      <td>64.9</td>\n",
       "      <td>56.0</td>\n",
       "      <td>Excellent</td>\n",
       "      <td>Very Good</td>\n",
       "      <td>Medium to Very Thick</td>\n",
       "      <td>Not Given</td>\n",
       "      <td>8.25</td>\n",
       "      <td>5.59</td>\n",
       "      <td>3.63</td>\n",
       "      <td>4400.0</td>\n",
       "      <td>GIA</td>\n",
       "      <td>Not Given</td>\n",
       "    </tr>\n",
       "    <tr>\n",
       "      <th>5106</th>\n",
       "      <td>Pear</td>\n",
       "      <td>Not Given</td>\n",
       "      <td>E</td>\n",
       "      <td>VS1</td>\n",
       "      <td>1.08</td>\n",
       "      <td>1.64</td>\n",
       "      <td>60.8</td>\n",
       "      <td>58.0</td>\n",
       "      <td>Excellent</td>\n",
       "      <td>Excellent</td>\n",
       "      <td>Thin to Medium</td>\n",
       "      <td>Pointed</td>\n",
       "      <td>9.47</td>\n",
       "      <td>5.77</td>\n",
       "      <td>3.51</td>\n",
       "      <td>1090.0</td>\n",
       "      <td>IGI Lab-Grown</td>\n",
       "      <td>Not Given</td>\n",
       "    </tr>\n",
       "    <tr>\n",
       "      <th>3751</th>\n",
       "      <td>Marquise</td>\n",
       "      <td>Not Given</td>\n",
       "      <td>G</td>\n",
       "      <td>VVS1</td>\n",
       "      <td>1.02</td>\n",
       "      <td>1.98</td>\n",
       "      <td>60.9</td>\n",
       "      <td>58.0</td>\n",
       "      <td>Excellent</td>\n",
       "      <td>Excellent</td>\n",
       "      <td>Slightly Thick to Thick</td>\n",
       "      <td>Not Given</td>\n",
       "      <td>10.34</td>\n",
       "      <td>5.22</td>\n",
       "      <td>3.18</td>\n",
       "      <td>4687.0</td>\n",
       "      <td>GIA</td>\n",
       "      <td>Medium</td>\n",
       "    </tr>\n",
       "    <tr>\n",
       "      <th>3720</th>\n",
       "      <td>Round</td>\n",
       "      <td>Excellent</td>\n",
       "      <td>F</td>\n",
       "      <td>VS1</td>\n",
       "      <td>1.56</td>\n",
       "      <td>1.01</td>\n",
       "      <td>61.5</td>\n",
       "      <td>60.0</td>\n",
       "      <td>Excellent</td>\n",
       "      <td>Excellent</td>\n",
       "      <td>Medium to Slightly Thick</td>\n",
       "      <td>Not Given</td>\n",
       "      <td>7.41</td>\n",
       "      <td>7.45</td>\n",
       "      <td>4.57</td>\n",
       "      <td>1830.0</td>\n",
       "      <td>GIA Lab-Grown</td>\n",
       "      <td>Not Given</td>\n",
       "    </tr>\n",
       "    <tr>\n",
       "      <th>6176</th>\n",
       "      <td>Heart</td>\n",
       "      <td>Not Given</td>\n",
       "      <td>E</td>\n",
       "      <td>VVS2</td>\n",
       "      <td>1.01</td>\n",
       "      <td>1.14</td>\n",
       "      <td>58.8</td>\n",
       "      <td>58.0</td>\n",
       "      <td>Excellent</td>\n",
       "      <td>Very Good</td>\n",
       "      <td>Slightly Thick to Very Thick</td>\n",
       "      <td>Not Given</td>\n",
       "      <td>6.04</td>\n",
       "      <td>6.91</td>\n",
       "      <td>4.06</td>\n",
       "      <td>3690.0</td>\n",
       "      <td>GIA</td>\n",
       "      <td>Medium</td>\n",
       "    </tr>\n",
       "    <tr>\n",
       "      <th>3595</th>\n",
       "      <td>Cushion</td>\n",
       "      <td>Ideal</td>\n",
       "      <td>D</td>\n",
       "      <td>VS1</td>\n",
       "      <td>1.91</td>\n",
       "      <td>1.02</td>\n",
       "      <td>66.2</td>\n",
       "      <td>60.0</td>\n",
       "      <td>Excellent</td>\n",
       "      <td>Excellent</td>\n",
       "      <td>Medium to Slightly Thick</td>\n",
       "      <td>Pointed</td>\n",
       "      <td>7.28</td>\n",
       "      <td>7.13</td>\n",
       "      <td>4.72</td>\n",
       "      <td>5310.0</td>\n",
       "      <td>IGI Lab-Grown</td>\n",
       "      <td>Not Given</td>\n",
       "    </tr>\n",
       "    <tr>\n",
       "      <th>3916</th>\n",
       "      <td>Pear</td>\n",
       "      <td>Not Given</td>\n",
       "      <td>F</td>\n",
       "      <td>VS1</td>\n",
       "      <td>1.00</td>\n",
       "      <td>1.45</td>\n",
       "      <td>65.6</td>\n",
       "      <td>57.0</td>\n",
       "      <td>Excellent</td>\n",
       "      <td>Good</td>\n",
       "      <td>Slightly Thick to Very Thick</td>\n",
       "      <td>Not Given</td>\n",
       "      <td>8.00</td>\n",
       "      <td>5.51</td>\n",
       "      <td>3.62</td>\n",
       "      <td>3890.0</td>\n",
       "      <td>GIA</td>\n",
       "      <td>Not Given</td>\n",
       "    </tr>\n",
       "  </tbody>\n",
       "</table>\n",
       "</div>"
      ],
      "text/plain": [
       "         Shape        Cut Color Clarity  Carat Weight  Length/Width Ratio  \\\n",
       "2360      Pear  Not Given     E     VS2          1.01                1.60   \n",
       "3873   Radiant  Not Given     F     VS2          1.02                1.30   \n",
       "1970      Oval  Not Given     D     VS1          1.01                1.66   \n",
       "3584      Pear  Not Given     E     VS2          1.00                1.48   \n",
       "5106      Pear  Not Given     E     VS1          1.08                1.64   \n",
       "3751  Marquise  Not Given     G    VVS1          1.02                1.98   \n",
       "3720     Round  Excellent     F     VS1          1.56                1.01   \n",
       "6176     Heart  Not Given     E    VVS2          1.01                1.14   \n",
       "3595   Cushion      Ideal     D     VS1          1.91                1.02   \n",
       "3916      Pear  Not Given     F     VS1          1.00                1.45   \n",
       "\n",
       "      Depth %  Table %     Polish   Symmetry                        Girdle  \\\n",
       "2360     58.8     55.0  Excellent  Excellent           Thick to Very Thick   \n",
       "3873     68.2     66.0  Excellent  Excellent       Slightly Thick to Thick   \n",
       "1970     62.5     63.0  Excellent  Very Good  Slightly Thick to Very Thick   \n",
       "3584     64.9     56.0  Excellent  Very Good          Medium to Very Thick   \n",
       "5106     60.8     58.0  Excellent  Excellent                Thin to Medium   \n",
       "3751     60.9     58.0  Excellent  Excellent       Slightly Thick to Thick   \n",
       "3720     61.5     60.0  Excellent  Excellent      Medium to Slightly Thick   \n",
       "6176     58.8     58.0  Excellent  Very Good  Slightly Thick to Very Thick   \n",
       "3595     66.2     60.0  Excellent  Excellent      Medium to Slightly Thick   \n",
       "3916     65.6     57.0  Excellent       Good  Slightly Thick to Very Thick   \n",
       "\n",
       "          Culet  Length  Width  Height   Price           Type Fluorescence  \n",
       "2360  Not Given    8.92   5.58    3.29  4870.0            GIA        Faint  \n",
       "3873  Not Given    6.56   5.04    3.44  3990.0            GIA    Not Given  \n",
       "1970  Not Given    8.79   5.31    3.32  4820.0            GIA    Not Given  \n",
       "3584  Not Given    8.25   5.59    3.63  4400.0            GIA    Not Given  \n",
       "5106    Pointed    9.47   5.77    3.51  1090.0  IGI Lab-Grown    Not Given  \n",
       "3751  Not Given   10.34   5.22    3.18  4687.0            GIA       Medium  \n",
       "3720  Not Given    7.41   7.45    4.57  1830.0  GIA Lab-Grown    Not Given  \n",
       "6176  Not Given    6.04   6.91    4.06  3690.0            GIA       Medium  \n",
       "3595    Pointed    7.28   7.13    4.72  5310.0  IGI Lab-Grown    Not Given  \n",
       "3916  Not Given    8.00   5.51    3.62  3890.0            GIA    Not Given  "
      ]
     },
     "execution_count": 67,
     "metadata": {},
     "output_type": "execute_result"
    }
   ],
   "source": [
    "df.sample(10)"
   ]
  },
  {
   "cell_type": "code",
   "execution_count": 68,
   "metadata": {},
   "outputs": [
    {
     "name": "stdout",
     "output_type": "stream",
     "text": [
      "<class 'pandas.core.frame.DataFrame'>\n",
      "RangeIndex: 6485 entries, 0 to 6484\n",
      "Data columns (total 18 columns):\n",
      " #   Column              Non-Null Count  Dtype  \n",
      "---  ------              --------------  -----  \n",
      " 0   Shape               6485 non-null   object \n",
      " 1   Cut                 6485 non-null   object \n",
      " 2   Color               6485 non-null   object \n",
      " 3   Clarity             6485 non-null   object \n",
      " 4   Carat Weight        6485 non-null   float64\n",
      " 5   Length/Width Ratio  6485 non-null   float64\n",
      " 6   Depth %             6485 non-null   float64\n",
      " 7   Table %             6485 non-null   float64\n",
      " 8   Polish              6485 non-null   object \n",
      " 9   Symmetry            6485 non-null   object \n",
      " 10  Girdle              6485 non-null   object \n",
      " 11  Culet               6485 non-null   object \n",
      " 12  Length              6485 non-null   float64\n",
      " 13  Width               6485 non-null   float64\n",
      " 14  Height              6485 non-null   float64\n",
      " 15  Price               6485 non-null   float64\n",
      " 16  Type                6485 non-null   object \n",
      " 17  Fluorescence        6485 non-null   object \n",
      "dtypes: float64(8), object(10)\n",
      "memory usage: 912.1+ KB\n"
     ]
    }
   ],
   "source": [
    "df.info()"
   ]
  },
  {
   "cell_type": "markdown",
   "metadata": {},
   "source": [
    "Now we have 2 ways. For using Random Forest and Boosting, better way to choose Ordinal Encoding. For Linear Model and SVM, I'll choose One-Hot encoding."
   ]
  },
  {
   "cell_type": "code",
   "execution_count": 69,
   "metadata": {},
   "outputs": [
    {
     "name": "stdout",
     "output_type": "stream",
     "text": [
      "<class 'pandas.core.frame.DataFrame'>\n",
      "RangeIndex: 6485 entries, 0 to 6484\n",
      "Data columns (total 18 columns):\n",
      " #   Column              Non-Null Count  Dtype  \n",
      "---  ------              --------------  -----  \n",
      " 0   Shape               6485 non-null   object \n",
      " 1   Cut                 6485 non-null   object \n",
      " 2   Color               6485 non-null   object \n",
      " 3   Clarity             6485 non-null   object \n",
      " 4   Carat Weight        6485 non-null   float64\n",
      " 5   Length/Width Ratio  6485 non-null   float64\n",
      " 6   Depth %             6485 non-null   float64\n",
      " 7   Table %             6485 non-null   float64\n",
      " 8   Polish              6485 non-null   object \n",
      " 9   Symmetry            6485 non-null   object \n",
      " 10  Girdle              6485 non-null   object \n",
      " 11  Culet               6485 non-null   object \n",
      " 12  Length              6485 non-null   float64\n",
      " 13  Width               6485 non-null   float64\n",
      " 14  Height              6485 non-null   float64\n",
      " 15  Price               6485 non-null   float64\n",
      " 16  Type                6485 non-null   object \n",
      " 17  Fluorescence        6485 non-null   object \n",
      "dtypes: float64(8), object(10)\n",
      "memory usage: 912.1+ KB\n"
     ]
    }
   ],
   "source": [
    "df.info()"
   ]
  },
  {
   "cell_type": "markdown",
   "metadata": {},
   "source": [
    "**Part 1. Boosting and Random Forest**"
   ]
  },
  {
   "cell_type": "code",
   "execution_count": 70,
   "metadata": {},
   "outputs": [],
   "source": [
    "from sklearn.model_selection import train_test_split\n",
    "\n",
    "X, y = df.drop(columns='Price'), df.Price\n",
    "X_train, X_test, y_train, y_test = train_test_split(X, y, test_size=0.2, random_state=RANDOM_STATE)"
   ]
  },
  {
   "cell_type": "code",
   "execution_count": 71,
   "metadata": {},
   "outputs": [],
   "source": [
    "from sklearn.preprocessing import OrdinalEncoder\n",
    "from sklearn.compose import ColumnTransformer\n",
    "\n",
    "column_transformer_ordinal = ColumnTransformer(\n",
    "    [('OrdinalEncoding', OrdinalEncoder(handle_unknown='error'), categorical_features)], \n",
    "    remainder='passthrough')\n",
    "\n",
    "X_train = column_transformer_ordinal.fit_transform(X_train, y_train).astype(np.float64)\n",
    "X_test = column_transformer_ordinal.transform(X_test).astype(np.float64)"
   ]
  },
  {
   "cell_type": "markdown",
   "metadata": {},
   "source": [
    "*RandomForest*"
   ]
  },
  {
   "cell_type": "code",
   "execution_count": 72,
   "metadata": {},
   "outputs": [
    {
     "data": {
      "image/png": "[encoded data removed]",
      "text/plain": [
       "<Figure size 1200x600 with 1 Axes>"
      ]
     },
     "metadata": {},
     "output_type": "display_data"
    }
   ],
   "source": [
    "from sklearn.ensemble import RandomForestRegressor\n",
    "from sklearn.metrics import root_mean_squared_error as rmse\n",
    "\n",
    "\n",
    "params = list(map(np.int64, np.logspace(0, 3, 20)))\n",
    "\n",
    "train_rmse_scores = []\n",
    "test_rmse_scores = []\n",
    "\n",
    "for n_trees in params:\n",
    "    rf = RandomForestRegressor(n_estimators=n_trees, random_state=RANDOM_STATE)\n",
    "    rf.fit(X_train, y_train)\n",
    "    \n",
    "    y_train_pred = rf.predict(X_train)\n",
    "    y_test_pred = rf.predict(X_test)\n",
    "    \n",
    "    train_rmse = rmse(y_train, y_train_pred)\n",
    "    test_rmse = rmse(y_test, y_test_pred)\n",
    "    \n",
    "    train_rmse_scores.append(train_rmse)\n",
    "    test_rmse_scores.append(test_rmse)\n",
    "\n",
    "plt.figure(figsize=(12, 6))\n",
    "plt.plot(params, train_rmse_scores, label='Train RMSE-score', marker='o')\n",
    "plt.plot(params, test_rmse_scores, label='Test RMSE-score', marker='o')\n",
    "plt.xlabel('Number of Trees')\n",
    "plt.ylabel('RMSE-score')\n",
    "plt.title('Random Forest Performance depends on Number of Trees')\n",
    "plt.legend()\n",
    "plt.grid()\n",
    "plt.show()"
   ]
  },
  {
   "cell_type": "code",
   "execution_count": 73,
   "metadata": {},
   "outputs": [
    {
     "name": "stdout",
     "output_type": "stream",
     "text": [
      "Number of trees: 1000\n",
      "Train rmse min: 497.41343997099546\n",
      "Test rmse: 1040.147638155296\n",
      "Number of trees: 1000\n",
      "Train rmse min: 497.41343997099546\n",
      "Test rmse: 1040.147638155296\n"
     ]
    }
   ],
   "source": [
    "id = train_rmse_scores.index(min(train_rmse_scores))\n",
    "print(f\"Number of trees: {params[id]}\")\n",
    "print(f\"Train rmse min: {train_rmse_scores[id]}\")\n",
    "print(f\"Test rmse: {test_rmse_scores[id]}\")\n",
    "\n",
    "id = test_rmse_scores.index(min(test_rmse_scores))\n",
    "print(f\"Number of trees: {params[id]}\")\n",
    "print(f\"Train rmse min: {train_rmse_scores[id]}\")\n",
    "print(f\"Test rmse: {test_rmse_scores[id]}\")"
   ]
  },
  {
   "cell_type": "code",
   "execution_count": 74,
   "metadata": {},
   "outputs": [
    {
     "name": "stdout",
     "output_type": "stream",
     "text": [
      "0.8650746068853646\n"
     ]
    }
   ],
   "source": [
    "model = RandomForestRegressor(n_estimators=1000, random_state=RANDOM_STATE)\n",
    "model.fit(X_train, y_train)\n",
    "print(model.score(X_test, y_test))"
   ]
  },
  {
   "cell_type": "markdown",
   "metadata": {},
   "source": [
    "Finally, for RandomForest we have rooted mean squared error for train data: 497.41343997099546, for test_data: 1040.147638155296.\n",
    "\n",
    "**Score: 0.8650746068853646**"
   ]
  },
  {
   "cell_type": "markdown",
   "metadata": {},
   "source": [
    "*Boosting*"
   ]
  },
  {
   "cell_type": "code",
   "execution_count": 75,
   "metadata": {},
   "outputs": [
    {
     "name": "stdout",
     "output_type": "stream",
     "text": [
      "255.91156749248952 1050.8570715871854\n",
      "0.8622819008457401\n"
     ]
    }
   ],
   "source": [
    "from xgboost import XGBRegressor\n",
    "\n",
    "xgb_model = XGBRegressor()\n",
    "xgb_model.fit(X_train, y_train)\n",
    "\n",
    "y_train_pred = xgb_model.predict(X_train)\n",
    "y_test_pred = xgb_model.predict(X_test)\n",
    "\n",
    "train_rmse = rmse(y_train, y_train_pred)\n",
    "test_rmse = rmse(y_test, y_test_pred)\n",
    "\n",
    "print(train_rmse, test_rmse)\n",
    "print(xgb_model.score(X_test, y_test))"
   ]
  },
  {
   "cell_type": "markdown",
   "metadata": {},
   "source": [
    "For XGBoost Regressor we have rooted mean squared error for train data: 255.91156749248952, for test_data: 1050.8570715871854.\n",
    "\n",
    "**Score: 0.8622819008457401**"
   ]
  },
  {
   "cell_type": "markdown",
   "metadata": {},
   "source": [
    "Now lets go for Linear Regressor and SVR. Don't forget that now we should use One-Hot-Encoder and StandardScaler\n",
    "\n",
    "***Part 2. Linear Regression and SVM***"
   ]
  },
  {
   "cell_type": "code",
   "execution_count": 76,
   "metadata": {},
   "outputs": [],
   "source": [
    "from sklearn.model_selection import GridSearchCV\n",
    "from sklearn.linear_model import Ridge, Lasso, LinearRegression\n",
    "from sklearn.preprocessing import StandardScaler, OneHotEncoder\n",
    "\n",
    "X_train, X_test, y_train, y_test = train_test_split(X, y, test_size=0.2, random_state=RANDOM_STATE)\n",
    "\n",
    "column_transformer_ohe = ColumnTransformer(\n",
    "    [('ohe', OneHotEncoder(handle_unknown='ignore'), categorical_features),\n",
    "     ('scaled', StandardScaler(), numeric_features)])\n",
    "X_train = column_transformer_ohe.fit_transform(X_train, y_train).astype(np.float64)\n",
    "X_test = column_transformer_ohe.transform(X_test).astype(np.float64)"
   ]
  },
  {
   "cell_type": "markdown",
   "metadata": {},
   "source": [
    "*Linear Regression*"
   ]
  },
  {
   "cell_type": "code",
   "execution_count": 77,
   "metadata": {},
   "outputs": [
    {
     "name": "stdout",
     "output_type": "stream",
     "text": [
      "1772.9605063255447 1471.9099905480703\n",
      "0.7298118960250517\n"
     ]
    }
   ],
   "source": [
    "lr = LinearRegression()\n",
    "lr.fit(X_train, y_train)\n",
    "y_train_pred = lr.predict(X_train)\n",
    "y_test_pred = lr.predict(X_test)\n",
    "\n",
    "train_rmse = rmse(y_train, y_train_pred)\n",
    "test_rmse = rmse(y_test, y_test_pred)\n",
    "\n",
    "print(train_rmse, test_rmse)\n",
    "print(lr.score(X_test, y_test))"
   ]
  },
  {
   "cell_type": "markdown",
   "metadata": {},
   "source": [
    "Native Linear Regression have rmse on train data: 1772.9605063255447, rmse on test data: 1471.9099905480703\n",
    "\n",
    "**Score: 0.7298118960250517**"
   ]
  },
  {
   "cell_type": "code",
   "execution_count": 78,
   "metadata": {},
   "outputs": [
    {
     "name": "stderr",
     "output_type": "stream",
     "text": [
      "/Users/opyat-ne-zavoditsya/hse/code/pr/ml/Will_hw/option1/.venv/lib/python3.12/site-packages/sklearn/linear_model/_coordinate_descent.py:656: ConvergenceWarning: Objective did not converge. You might want to increase the number of iterations. Duality gap: 503551229.4281597, tolerance: 4556019.570701208\n",
      "  model = cd_fast.sparse_enet_coordinate_descent(\n",
      "/Users/opyat-ne-zavoditsya/hse/code/pr/ml/Will_hw/option1/.venv/lib/python3.12/site-packages/sklearn/linear_model/_coordinate_descent.py:656: ConvergenceWarning: Objective did not converge. You might want to increase the number of iterations. Duality gap: 120111839.05504227, tolerance: 4747399.0199491335\n",
      "  model = cd_fast.sparse_enet_coordinate_descent(\n",
      "/Users/opyat-ne-zavoditsya/hse/code/pr/ml/Will_hw/option1/.venv/lib/python3.12/site-packages/sklearn/linear_model/_coordinate_descent.py:656: ConvergenceWarning: Objective did not converge. You might want to increase the number of iterations. Duality gap: 549838158.792839, tolerance: 4556019.570701208\n",
      "  model = cd_fast.sparse_enet_coordinate_descent(\n",
      "/Users/opyat-ne-zavoditsya/hse/code/pr/ml/Will_hw/option1/.venv/lib/python3.12/site-packages/sklearn/linear_model/_coordinate_descent.py:656: ConvergenceWarning: Objective did not converge. You might want to increase the number of iterations. Duality gap: 148158791.55413437, tolerance: 4760756.484571621\n",
      "  model = cd_fast.sparse_enet_coordinate_descent(\n",
      "/Users/opyat-ne-zavoditsya/hse/code/pr/ml/Will_hw/option1/.venv/lib/python3.12/site-packages/sklearn/linear_model/_coordinate_descent.py:656: ConvergenceWarning: Objective did not converge. You might want to increase the number of iterations. Duality gap: 30148490.643903732, tolerance: 4718143.091328981\n",
      "  model = cd_fast.sparse_enet_coordinate_descent(\n",
      "/Users/opyat-ne-zavoditsya/hse/code/pr/ml/Will_hw/option1/.venv/lib/python3.12/site-packages/sklearn/linear_model/_coordinate_descent.py:656: ConvergenceWarning: Objective did not converge. You might want to increase the number of iterations. Duality gap: 112713300.44756508, tolerance: 4747399.0199491335\n",
      "  model = cd_fast.sparse_enet_coordinate_descent(\n",
      "/Users/opyat-ne-zavoditsya/hse/code/pr/ml/Will_hw/option1/.venv/lib/python3.12/site-packages/sklearn/linear_model/_coordinate_descent.py:656: ConvergenceWarning: Objective did not converge. You might want to increase the number of iterations. Duality gap: 130890232.41981506, tolerance: 4760756.484571621\n",
      "  model = cd_fast.sparse_enet_coordinate_descent(\n",
      "/Users/opyat-ne-zavoditsya/hse/code/pr/ml/Will_hw/option1/.venv/lib/python3.12/site-packages/sklearn/linear_model/_coordinate_descent.py:656: ConvergenceWarning: Objective did not converge. You might want to increase the number of iterations. Duality gap: 24454452.11377144, tolerance: 4718143.091328981\n",
      "  model = cd_fast.sparse_enet_coordinate_descent(\n",
      "/Users/opyat-ne-zavoditsya/hse/code/pr/ml/Will_hw/option1/.venv/lib/python3.12/site-packages/sklearn/linear_model/_coordinate_descent.py:656: ConvergenceWarning: Objective did not converge. You might want to increase the number of iterations. Duality gap: 459673616.92184067, tolerance: 4556019.570701208\n",
      "  model = cd_fast.sparse_enet_coordinate_descent(\n",
      "/Users/opyat-ne-zavoditsya/hse/code/pr/ml/Will_hw/option1/.venv/lib/python3.12/site-packages/sklearn/linear_model/_coordinate_descent.py:656: ConvergenceWarning: Objective did not converge. You might want to increase the number of iterations. Duality gap: 99624313.84247017, tolerance: 4747399.0199491335\n",
      "  model = cd_fast.sparse_enet_coordinate_descent(\n",
      "/Users/opyat-ne-zavoditsya/hse/code/pr/ml/Will_hw/option1/.venv/lib/python3.12/site-packages/sklearn/linear_model/_coordinate_descent.py:656: ConvergenceWarning: Objective did not converge. You might want to increase the number of iterations. Duality gap: 19387571.117786407, tolerance: 4718143.091328981\n",
      "  model = cd_fast.sparse_enet_coordinate_descent(\n",
      "/Users/opyat-ne-zavoditsya/hse/code/pr/ml/Will_hw/option1/.venv/lib/python3.12/site-packages/sklearn/linear_model/_coordinate_descent.py:656: ConvergenceWarning: Objective did not converge. You might want to increase the number of iterations. Duality gap: 114327223.6604023, tolerance: 4760756.484571621\n",
      "  model = cd_fast.sparse_enet_coordinate_descent(\n",
      "/Users/opyat-ne-zavoditsya/hse/code/pr/ml/Will_hw/option1/.venv/lib/python3.12/site-packages/sklearn/linear_model/_coordinate_descent.py:656: ConvergenceWarning: Objective did not converge. You might want to increase the number of iterations. Duality gap: 418100309.74982643, tolerance: 4556019.570701208\n",
      "  model = cd_fast.sparse_enet_coordinate_descent(\n",
      "/Users/opyat-ne-zavoditsya/hse/code/pr/ml/Will_hw/option1/.venv/lib/python3.12/site-packages/sklearn/linear_model/_coordinate_descent.py:656: ConvergenceWarning: Objective did not converge. You might want to increase the number of iterations. Duality gap: 85691000.64338875, tolerance: 4747399.0199491335\n",
      "  model = cd_fast.sparse_enet_coordinate_descent(\n",
      "/Users/opyat-ne-zavoditsya/hse/code/pr/ml/Will_hw/option1/.venv/lib/python3.12/site-packages/sklearn/linear_model/_coordinate_descent.py:656: ConvergenceWarning: Objective did not converge. You might want to increase the number of iterations. Duality gap: 379073731.17206955, tolerance: 4556019.570701208\n",
      "  model = cd_fast.sparse_enet_coordinate_descent(\n",
      "/Users/opyat-ne-zavoditsya/hse/code/pr/ml/Will_hw/option1/.venv/lib/python3.12/site-packages/sklearn/linear_model/_coordinate_descent.py:656: ConvergenceWarning: Objective did not converge. You might want to increase the number of iterations. Duality gap: 14883453.031568527, tolerance: 4718143.091328981\n",
      "  model = cd_fast.sparse_enet_coordinate_descent(\n",
      "/Users/opyat-ne-zavoditsya/hse/code/pr/ml/Will_hw/option1/.venv/lib/python3.12/site-packages/sklearn/linear_model/_coordinate_descent.py:656: ConvergenceWarning: Objective did not converge. You might want to increase the number of iterations. Duality gap: 98390662.98713112, tolerance: 4760756.484571621\n",
      "  model = cd_fast.sparse_enet_coordinate_descent(\n",
      "/Users/opyat-ne-zavoditsya/hse/code/pr/ml/Will_hw/option1/.venv/lib/python3.12/site-packages/sklearn/linear_model/_coordinate_descent.py:656: ConvergenceWarning: Objective did not converge. You might want to increase the number of iterations. Duality gap: 71660467.28927612, tolerance: 4747399.0199491335\n",
      "  model = cd_fast.sparse_enet_coordinate_descent(\n",
      "/Users/opyat-ne-zavoditsya/hse/code/pr/ml/Will_hw/option1/.venv/lib/python3.12/site-packages/sklearn/linear_model/_coordinate_descent.py:656: ConvergenceWarning: Objective did not converge. You might want to increase the number of iterations. Duality gap: 83957347.31263733, tolerance: 4760756.484571621\n",
      "  model = cd_fast.sparse_enet_coordinate_descent(\n",
      "/Users/opyat-ne-zavoditsya/hse/code/pr/ml/Will_hw/option1/.venv/lib/python3.12/site-packages/sklearn/linear_model/_coordinate_descent.py:656: ConvergenceWarning: Objective did not converge. You might want to increase the number of iterations. Duality gap: 11031348.262245178, tolerance: 4718143.091328981\n",
      "  model = cd_fast.sparse_enet_coordinate_descent(\n",
      "/Users/opyat-ne-zavoditsya/hse/code/pr/ml/Will_hw/option1/.venv/lib/python3.12/site-packages/sklearn/linear_model/_coordinate_descent.py:656: ConvergenceWarning: Objective did not converge. You might want to increase the number of iterations. Duality gap: 340867941.0887642, tolerance: 4556019.570701208\n",
      "  model = cd_fast.sparse_enet_coordinate_descent(\n",
      "/Users/opyat-ne-zavoditsya/hse/code/pr/ml/Will_hw/option1/.venv/lib/python3.12/site-packages/sklearn/linear_model/_coordinate_descent.py:656: ConvergenceWarning: Objective did not converge. You might want to increase the number of iterations. Duality gap: 58330345.201005936, tolerance: 4747399.0199491335\n",
      "  model = cd_fast.sparse_enet_coordinate_descent(\n",
      "/Users/opyat-ne-zavoditsya/hse/code/pr/ml/Will_hw/option1/.venv/lib/python3.12/site-packages/sklearn/linear_model/_coordinate_descent.py:656: ConvergenceWarning: Objective did not converge. You might want to increase the number of iterations. Duality gap: 70303669.21845436, tolerance: 4760756.484571621\n",
      "  model = cd_fast.sparse_enet_coordinate_descent(\n",
      "/Users/opyat-ne-zavoditsya/hse/code/pr/ml/Will_hw/option1/.venv/lib/python3.12/site-packages/sklearn/linear_model/_coordinate_descent.py:656: ConvergenceWarning: Objective did not converge. You might want to increase the number of iterations. Duality gap: 7682230.650352478, tolerance: 4718143.091328981\n",
      "  model = cd_fast.sparse_enet_coordinate_descent(\n",
      "/Users/opyat-ne-zavoditsya/hse/code/pr/ml/Will_hw/option1/.venv/lib/python3.12/site-packages/sklearn/linear_model/_coordinate_descent.py:656: ConvergenceWarning: Objective did not converge. You might want to increase the number of iterations. Duality gap: 304053884.5598316, tolerance: 4556019.570701208\n",
      "  model = cd_fast.sparse_enet_coordinate_descent(\n",
      "/Users/opyat-ne-zavoditsya/hse/code/pr/ml/Will_hw/option1/.venv/lib/python3.12/site-packages/sklearn/linear_model/_coordinate_descent.py:656: ConvergenceWarning: Objective did not converge. You might want to increase the number of iterations. Duality gap: 45460449.98438072, tolerance: 4747399.0199491335\n",
      "  model = cd_fast.sparse_enet_coordinate_descent(\n",
      "/Users/opyat-ne-zavoditsya/hse/code/pr/ml/Will_hw/option1/.venv/lib/python3.12/site-packages/sklearn/linear_model/_coordinate_descent.py:656: ConvergenceWarning: Objective did not converge. You might want to increase the number of iterations. Duality gap: 55635083.95590782, tolerance: 4760756.484571621\n",
      "  model = cd_fast.sparse_enet_coordinate_descent(\n",
      "/Users/opyat-ne-zavoditsya/hse/code/pr/ml/Will_hw/option1/.venv/lib/python3.12/site-packages/sklearn/linear_model/_coordinate_descent.py:656: ConvergenceWarning: Objective did not converge. You might want to increase the number of iterations. Duality gap: 269238740.8367653, tolerance: 4556019.570701208\n",
      "  model = cd_fast.sparse_enet_coordinate_descent(\n",
      "/Users/opyat-ne-zavoditsya/hse/code/pr/ml/Will_hw/option1/.venv/lib/python3.12/site-packages/sklearn/linear_model/_coordinate_descent.py:656: ConvergenceWarning: Objective did not converge. You might want to increase the number of iterations. Duality gap: 31601373.019374847, tolerance: 4747399.0199491335\n",
      "  model = cd_fast.sparse_enet_coordinate_descent(\n",
      "/Users/opyat-ne-zavoditsya/hse/code/pr/ml/Will_hw/option1/.venv/lib/python3.12/site-packages/sklearn/linear_model/_coordinate_descent.py:656: ConvergenceWarning: Objective did not converge. You might want to increase the number of iterations. Duality gap: 40448800.36602211, tolerance: 4760756.484571621\n",
      "  model = cd_fast.sparse_enet_coordinate_descent(\n",
      "/Users/opyat-ne-zavoditsya/hse/code/pr/ml/Will_hw/option1/.venv/lib/python3.12/site-packages/sklearn/linear_model/_coordinate_descent.py:656: ConvergenceWarning: Objective did not converge. You might want to increase the number of iterations. Duality gap: 236186729.0973873, tolerance: 4556019.570701208\n",
      "  model = cd_fast.sparse_enet_coordinate_descent(\n",
      "/Users/opyat-ne-zavoditsya/hse/code/pr/ml/Will_hw/option1/.venv/lib/python3.12/site-packages/sklearn/linear_model/_coordinate_descent.py:656: ConvergenceWarning: Objective did not converge. You might want to increase the number of iterations. Duality gap: 19201491.438236237, tolerance: 4747399.0199491335\n",
      "  model = cd_fast.sparse_enet_coordinate_descent(\n",
      "/Users/opyat-ne-zavoditsya/hse/code/pr/ml/Will_hw/option1/.venv/lib/python3.12/site-packages/sklearn/linear_model/_coordinate_descent.py:656: ConvergenceWarning: Objective did not converge. You might want to increase the number of iterations. Duality gap: 24264596.41058922, tolerance: 4760756.484571621\n",
      "  model = cd_fast.sparse_enet_coordinate_descent(\n",
      "/Users/opyat-ne-zavoditsya/hse/code/pr/ml/Will_hw/option1/.venv/lib/python3.12/site-packages/sklearn/linear_model/_coordinate_descent.py:656: ConvergenceWarning: Objective did not converge. You might want to increase the number of iterations. Duality gap: 205016622.19789505, tolerance: 4556019.570701208\n",
      "  model = cd_fast.sparse_enet_coordinate_descent(\n",
      "/Users/opyat-ne-zavoditsya/hse/code/pr/ml/Will_hw/option1/.venv/lib/python3.12/site-packages/sklearn/linear_model/_coordinate_descent.py:656: ConvergenceWarning: Objective did not converge. You might want to increase the number of iterations. Duality gap: 16871599.323587418, tolerance: 4747399.0199491335\n",
      "  model = cd_fast.sparse_enet_coordinate_descent(\n",
      "/Users/opyat-ne-zavoditsya/hse/code/pr/ml/Will_hw/option1/.venv/lib/python3.12/site-packages/sklearn/linear_model/_coordinate_descent.py:656: ConvergenceWarning: Objective did not converge. You might want to increase the number of iterations. Duality gap: 20442898.93339157, tolerance: 4760756.484571621\n",
      "  model = cd_fast.sparse_enet_coordinate_descent(\n",
      "/Users/opyat-ne-zavoditsya/hse/code/pr/ml/Will_hw/option1/.venv/lib/python3.12/site-packages/sklearn/linear_model/_coordinate_descent.py:656: ConvergenceWarning: Objective did not converge. You might want to increase the number of iterations. Duality gap: 174941892.51179504, tolerance: 4556019.570701208\n",
      "  model = cd_fast.sparse_enet_coordinate_descent(\n",
      "/Users/opyat-ne-zavoditsya/hse/code/pr/ml/Will_hw/option1/.venv/lib/python3.12/site-packages/sklearn/linear_model/_coordinate_descent.py:656: ConvergenceWarning: Objective did not converge. You might want to increase the number of iterations. Duality gap: 14707830.497880936, tolerance: 4747399.0199491335\n",
      "  model = cd_fast.sparse_enet_coordinate_descent(\n",
      "/Users/opyat-ne-zavoditsya/hse/code/pr/ml/Will_hw/option1/.venv/lib/python3.12/site-packages/sklearn/linear_model/_coordinate_descent.py:656: ConvergenceWarning: Objective did not converge. You might want to increase the number of iterations. Duality gap: 16274228.903270721, tolerance: 4760756.484571621\n",
      "  model = cd_fast.sparse_enet_coordinate_descent(\n",
      "/Users/opyat-ne-zavoditsya/hse/code/pr/ml/Will_hw/option1/.venv/lib/python3.12/site-packages/sklearn/linear_model/_coordinate_descent.py:656: ConvergenceWarning: Objective did not converge. You might want to increase the number of iterations. Duality gap: 146818942.67970657, tolerance: 4556019.570701208\n",
      "  model = cd_fast.sparse_enet_coordinate_descent(\n",
      "/Users/opyat-ne-zavoditsya/hse/code/pr/ml/Will_hw/option1/.venv/lib/python3.12/site-packages/sklearn/linear_model/_coordinate_descent.py:656: ConvergenceWarning: Objective did not converge. You might want to increase the number of iterations. Duality gap: 12713125.614723206, tolerance: 4747399.0199491335\n",
      "  model = cd_fast.sparse_enet_coordinate_descent(\n",
      "/Users/opyat-ne-zavoditsya/hse/code/pr/ml/Will_hw/option1/.venv/lib/python3.12/site-packages/sklearn/linear_model/_coordinate_descent.py:656: ConvergenceWarning: Objective did not converge. You might want to increase the number of iterations. Duality gap: 13788579.976499557, tolerance: 4760756.484571621\n",
      "  model = cd_fast.sparse_enet_coordinate_descent(\n",
      "/Users/opyat-ne-zavoditsya/hse/code/pr/ml/Will_hw/option1/.venv/lib/python3.12/site-packages/sklearn/linear_model/_coordinate_descent.py:656: ConvergenceWarning: Objective did not converge. You might want to increase the number of iterations. Duality gap: 119004684.34436607, tolerance: 4556019.570701208\n",
      "  model = cd_fast.sparse_enet_coordinate_descent(\n",
      "/Users/opyat-ne-zavoditsya/hse/code/pr/ml/Will_hw/option1/.venv/lib/python3.12/site-packages/sklearn/linear_model/_coordinate_descent.py:656: ConvergenceWarning: Objective did not converge. You might want to increase the number of iterations. Duality gap: 10808966.958908081, tolerance: 4747399.0199491335\n",
      "  model = cd_fast.sparse_enet_coordinate_descent(\n",
      "/Users/opyat-ne-zavoditsya/hse/code/pr/ml/Will_hw/option1/.venv/lib/python3.12/site-packages/sklearn/linear_model/_coordinate_descent.py:656: ConvergenceWarning: Objective did not converge. You might want to increase the number of iterations. Duality gap: 11555288.388109207, tolerance: 4760756.484571621\n",
      "  model = cd_fast.sparse_enet_coordinate_descent(\n",
      "/Users/opyat-ne-zavoditsya/hse/code/pr/ml/Will_hw/option1/.venv/lib/python3.12/site-packages/sklearn/linear_model/_coordinate_descent.py:656: ConvergenceWarning: Objective did not converge. You might want to increase the number of iterations. Duality gap: 88849340.53845215, tolerance: 4556019.570701208\n",
      "  model = cd_fast.sparse_enet_coordinate_descent(\n",
      "/Users/opyat-ne-zavoditsya/hse/code/pr/ml/Will_hw/option1/.venv/lib/python3.12/site-packages/sklearn/linear_model/_coordinate_descent.py:656: ConvergenceWarning: Objective did not converge. You might want to increase the number of iterations. Duality gap: 9018989.979492188, tolerance: 4747399.0199491335\n",
      "  model = cd_fast.sparse_enet_coordinate_descent(\n",
      "/Users/opyat-ne-zavoditsya/hse/code/pr/ml/Will_hw/option1/.venv/lib/python3.12/site-packages/sklearn/linear_model/_coordinate_descent.py:656: ConvergenceWarning: Objective did not converge. You might want to increase the number of iterations. Duality gap: 9565090.605175018, tolerance: 4760756.484571621\n",
      "  model = cd_fast.sparse_enet_coordinate_descent(\n",
      "/Users/opyat-ne-zavoditsya/hse/code/pr/ml/Will_hw/option1/.venv/lib/python3.12/site-packages/sklearn/linear_model/_coordinate_descent.py:656: ConvergenceWarning: Objective did not converge. You might want to increase the number of iterations. Duality gap: 73246243.37157631, tolerance: 4556019.570701208\n",
      "  model = cd_fast.sparse_enet_coordinate_descent(\n",
      "/Users/opyat-ne-zavoditsya/hse/code/pr/ml/Will_hw/option1/.venv/lib/python3.12/site-packages/sklearn/linear_model/_coordinate_descent.py:656: ConvergenceWarning: Objective did not converge. You might want to increase the number of iterations. Duality gap: 7349294.43561554, tolerance: 4747399.0199491335\n",
      "  model = cd_fast.sparse_enet_coordinate_descent(\n",
      "/Users/opyat-ne-zavoditsya/hse/code/pr/ml/Will_hw/option1/.venv/lib/python3.12/site-packages/sklearn/linear_model/_coordinate_descent.py:656: ConvergenceWarning: Objective did not converge. You might want to increase the number of iterations. Duality gap: 7719473.503368378, tolerance: 4760756.484571621\n",
      "  model = cd_fast.sparse_enet_coordinate_descent(\n",
      "/Users/opyat-ne-zavoditsya/hse/code/pr/ml/Will_hw/option1/.venv/lib/python3.12/site-packages/sklearn/linear_model/_coordinate_descent.py:656: ConvergenceWarning: Objective did not converge. You might want to increase the number of iterations. Duality gap: 64106021.45236397, tolerance: 4556019.570701208\n",
      "  model = cd_fast.sparse_enet_coordinate_descent(\n",
      "/Users/opyat-ne-zavoditsya/hse/code/pr/ml/Will_hw/option1/.venv/lib/python3.12/site-packages/sklearn/linear_model/_coordinate_descent.py:656: ConvergenceWarning: Objective did not converge. You might want to increase the number of iterations. Duality gap: 5781001.943954468, tolerance: 4747399.0199491335\n",
      "  model = cd_fast.sparse_enet_coordinate_descent(\n",
      "/Users/opyat-ne-zavoditsya/hse/code/pr/ml/Will_hw/option1/.venv/lib/python3.12/site-packages/sklearn/linear_model/_coordinate_descent.py:656: ConvergenceWarning: Objective did not converge. You might want to increase the number of iterations. Duality gap: 6050910.007450104, tolerance: 4760756.484571621\n",
      "  model = cd_fast.sparse_enet_coordinate_descent(\n",
      "/Users/opyat-ne-zavoditsya/hse/code/pr/ml/Will_hw/option1/.venv/lib/python3.12/site-packages/sklearn/linear_model/_coordinate_descent.py:656: ConvergenceWarning: Objective did not converge. You might want to increase the number of iterations. Duality gap: 55871652.87019539, tolerance: 4556019.570701208\n",
      "  model = cd_fast.sparse_enet_coordinate_descent(\n",
      "/Users/opyat-ne-zavoditsya/hse/code/pr/ml/Will_hw/option1/.venv/lib/python3.12/site-packages/sklearn/linear_model/_coordinate_descent.py:656: ConvergenceWarning: Objective did not converge. You might want to increase the number of iterations. Duality gap: 48344512.2498188, tolerance: 4556019.570701208\n",
      "  model = cd_fast.sparse_enet_coordinate_descent(\n",
      "/Users/opyat-ne-zavoditsya/hse/code/pr/ml/Will_hw/option1/.venv/lib/python3.12/site-packages/sklearn/linear_model/_coordinate_descent.py:656: ConvergenceWarning: Objective did not converge. You might want to increase the number of iterations. Duality gap: 6094078.240177155, tolerance: 4947558.603948533\n",
      "  model = cd_fast.sparse_enet_coordinate_descent(\n",
      "/Users/opyat-ne-zavoditsya/hse/code/pr/ml/Will_hw/option1/.venv/lib/python3.12/site-packages/sklearn/linear_model/_coordinate_descent.py:656: ConvergenceWarning: Objective did not converge. You might want to increase the number of iterations. Duality gap: 41343892.89171791, tolerance: 4556019.570701208\n",
      "  model = cd_fast.sparse_enet_coordinate_descent(\n",
      "/Users/opyat-ne-zavoditsya/hse/code/pr/ml/Will_hw/option1/.venv/lib/python3.12/site-packages/sklearn/linear_model/_coordinate_descent.py:656: ConvergenceWarning: Objective did not converge. You might want to increase the number of iterations. Duality gap: 34736075.63758659, tolerance: 4556019.570701208\n",
      "  model = cd_fast.sparse_enet_coordinate_descent(\n",
      "/Users/opyat-ne-zavoditsya/hse/code/pr/ml/Will_hw/option1/.venv/lib/python3.12/site-packages/sklearn/linear_model/_coordinate_descent.py:656: ConvergenceWarning: Objective did not converge. You might want to increase the number of iterations. Duality gap: 8466692.711610794, tolerance: 4947558.603948533\n",
      "  model = cd_fast.sparse_enet_coordinate_descent(\n",
      "/Users/opyat-ne-zavoditsya/hse/code/pr/ml/Will_hw/option1/.venv/lib/python3.12/site-packages/sklearn/linear_model/_coordinate_descent.py:656: ConvergenceWarning: Objective did not converge. You might want to increase the number of iterations. Duality gap: 10742410.70578003, tolerance: 4947558.603948533\n",
      "  model = cd_fast.sparse_enet_coordinate_descent(\n",
      "/Users/opyat-ne-zavoditsya/hse/code/pr/ml/Will_hw/option1/.venv/lib/python3.12/site-packages/sklearn/linear_model/_coordinate_descent.py:656: ConvergenceWarning: Objective did not converge. You might want to increase the number of iterations. Duality gap: 27486177.77993965, tolerance: 4556019.570701208\n",
      "  model = cd_fast.sparse_enet_coordinate_descent(\n",
      "/Users/opyat-ne-zavoditsya/hse/code/pr/ml/Will_hw/option1/.venv/lib/python3.12/site-packages/sklearn/linear_model/_coordinate_descent.py:656: ConvergenceWarning: Objective did not converge. You might want to increase the number of iterations. Duality gap: 12495431.11469841, tolerance: 4947558.603948533\n",
      "  model = cd_fast.sparse_enet_coordinate_descent(\n",
      "/Users/opyat-ne-zavoditsya/hse/code/pr/ml/Will_hw/option1/.venv/lib/python3.12/site-packages/sklearn/linear_model/_coordinate_descent.py:656: ConvergenceWarning: Objective did not converge. You might want to increase the number of iterations. Duality gap: 23031324.17924881, tolerance: 4556019.570701208\n",
      "  model = cd_fast.sparse_enet_coordinate_descent(\n",
      "/Users/opyat-ne-zavoditsya/hse/code/pr/ml/Will_hw/option1/.venv/lib/python3.12/site-packages/sklearn/linear_model/_coordinate_descent.py:656: ConvergenceWarning: Objective did not converge. You might want to increase the number of iterations. Duality gap: 18854775.42267227, tolerance: 4556019.570701208\n",
      "  model = cd_fast.sparse_enet_coordinate_descent(\n",
      "/Users/opyat-ne-zavoditsya/hse/code/pr/ml/Will_hw/option1/.venv/lib/python3.12/site-packages/sklearn/linear_model/_coordinate_descent.py:656: ConvergenceWarning: Objective did not converge. You might want to increase the number of iterations. Duality gap: 11257861.709285736, tolerance: 4947558.603948533\n",
      "  model = cd_fast.sparse_enet_coordinate_descent(\n",
      "/Users/opyat-ne-zavoditsya/hse/code/pr/ml/Will_hw/option1/.venv/lib/python3.12/site-packages/sklearn/linear_model/_coordinate_descent.py:656: ConvergenceWarning: Objective did not converge. You might want to increase the number of iterations. Duality gap: 11540579.168739319, tolerance: 4947558.603948533\n",
      "  model = cd_fast.sparse_enet_coordinate_descent(\n",
      "/Users/opyat-ne-zavoditsya/hse/code/pr/ml/Will_hw/option1/.venv/lib/python3.12/site-packages/sklearn/linear_model/_coordinate_descent.py:656: ConvergenceWarning: Objective did not converge. You might want to increase the number of iterations. Duality gap: 15082014.10388565, tolerance: 4556019.570701208\n",
      "  model = cd_fast.sparse_enet_coordinate_descent(\n",
      "/Users/opyat-ne-zavoditsya/hse/code/pr/ml/Will_hw/option1/.venv/lib/python3.12/site-packages/sklearn/linear_model/_coordinate_descent.py:656: ConvergenceWarning: Objective did not converge. You might want to increase the number of iterations. Duality gap: 12342675.616811752, tolerance: 4947558.603948533\n",
      "  model = cd_fast.sparse_enet_coordinate_descent(\n",
      "/Users/opyat-ne-zavoditsya/hse/code/pr/ml/Will_hw/option1/.venv/lib/python3.12/site-packages/sklearn/linear_model/_coordinate_descent.py:656: ConvergenceWarning: Objective did not converge. You might want to increase the number of iterations. Duality gap: 11549291.694667816, tolerance: 4556019.570701208\n",
      "  model = cd_fast.sparse_enet_coordinate_descent(\n",
      "/Users/opyat-ne-zavoditsya/hse/code/pr/ml/Will_hw/option1/.venv/lib/python3.12/site-packages/sklearn/linear_model/_coordinate_descent.py:656: ConvergenceWarning: Objective did not converge. You might want to increase the number of iterations. Duality gap: 13173327.039497375, tolerance: 4947558.603948533\n",
      "  model = cd_fast.sparse_enet_coordinate_descent(\n",
      "/Users/opyat-ne-zavoditsya/hse/code/pr/ml/Will_hw/option1/.venv/lib/python3.12/site-packages/sklearn/linear_model/_coordinate_descent.py:656: ConvergenceWarning: Objective did not converge. You might want to increase the number of iterations. Duality gap: 8276779.128271103, tolerance: 4556019.570701208\n",
      "  model = cd_fast.sparse_enet_coordinate_descent(\n",
      "/Users/opyat-ne-zavoditsya/hse/code/pr/ml/Will_hw/option1/.venv/lib/python3.12/site-packages/sklearn/linear_model/_coordinate_descent.py:656: ConvergenceWarning: Objective did not converge. You might want to increase the number of iterations. Duality gap: 14006798.044193268, tolerance: 4947558.603948533\n",
      "  model = cd_fast.sparse_enet_coordinate_descent(\n",
      "/Users/opyat-ne-zavoditsya/hse/code/pr/ml/Will_hw/option1/.venv/lib/python3.12/site-packages/sklearn/linear_model/_coordinate_descent.py:656: ConvergenceWarning: Objective did not converge. You might want to increase the number of iterations. Duality gap: 5240866.95867157, tolerance: 4556019.570701208\n",
      "  model = cd_fast.sparse_enet_coordinate_descent(\n",
      "/Users/opyat-ne-zavoditsya/hse/code/pr/ml/Will_hw/option1/.venv/lib/python3.12/site-packages/sklearn/linear_model/_coordinate_descent.py:656: ConvergenceWarning: Objective did not converge. You might want to increase the number of iterations. Duality gap: 14854208.33804512, tolerance: 4947558.603948533\n",
      "  model = cd_fast.sparse_enet_coordinate_descent(\n",
      "/Users/opyat-ne-zavoditsya/hse/code/pr/ml/Will_hw/option1/.venv/lib/python3.12/site-packages/sklearn/linear_model/_coordinate_descent.py:656: ConvergenceWarning: Objective did not converge. You might want to increase the number of iterations. Duality gap: 15029192.233755112, tolerance: 4947558.603948533\n",
      "  model = cd_fast.sparse_enet_coordinate_descent(\n",
      "/Users/opyat-ne-zavoditsya/hse/code/pr/ml/Will_hw/option1/.venv/lib/python3.12/site-packages/sklearn/linear_model/_coordinate_descent.py:656: ConvergenceWarning: Objective did not converge. You might want to increase the number of iterations. Duality gap: 15530775.527870178, tolerance: 4947558.603948533\n",
      "  model = cd_fast.sparse_enet_coordinate_descent(\n",
      "/Users/opyat-ne-zavoditsya/hse/code/pr/ml/Will_hw/option1/.venv/lib/python3.12/site-packages/sklearn/linear_model/_coordinate_descent.py:656: ConvergenceWarning: Objective did not converge. You might want to increase the number of iterations. Duality gap: 5156314.314483643, tolerance: 4718143.091328981\n",
      "  model = cd_fast.sparse_enet_coordinate_descent(\n",
      "/Users/opyat-ne-zavoditsya/hse/code/pr/ml/Will_hw/option1/.venv/lib/python3.12/site-packages/sklearn/linear_model/_coordinate_descent.py:656: ConvergenceWarning: Objective did not converge. You might want to increase the number of iterations. Duality gap: 16183086.554922104, tolerance: 4947558.603948533\n",
      "  model = cd_fast.sparse_enet_coordinate_descent(\n",
      "/Users/opyat-ne-zavoditsya/hse/code/pr/ml/Will_hw/option1/.venv/lib/python3.12/site-packages/sklearn/linear_model/_coordinate_descent.py:656: ConvergenceWarning: Objective did not converge. You might want to increase the number of iterations. Duality gap: 5619260.331151962, tolerance: 4718143.091328981\n",
      "  model = cd_fast.sparse_enet_coordinate_descent(\n",
      "/Users/opyat-ne-zavoditsya/hse/code/pr/ml/Will_hw/option1/.venv/lib/python3.12/site-packages/sklearn/linear_model/_coordinate_descent.py:656: ConvergenceWarning: Objective did not converge. You might want to increase the number of iterations. Duality gap: 16843006.558555603, tolerance: 4947558.603948533\n",
      "  model = cd_fast.sparse_enet_coordinate_descent(\n",
      "/Users/opyat-ne-zavoditsya/hse/code/pr/ml/Will_hw/option1/.venv/lib/python3.12/site-packages/sklearn/linear_model/_coordinate_descent.py:656: ConvergenceWarning: Objective did not converge. You might want to increase the number of iterations. Duality gap: 6258549.211526871, tolerance: 4718143.091328981\n",
      "  model = cd_fast.sparse_enet_coordinate_descent(\n",
      "/Users/opyat-ne-zavoditsya/hse/code/pr/ml/Will_hw/option1/.venv/lib/python3.12/site-packages/sklearn/linear_model/_coordinate_descent.py:656: ConvergenceWarning: Objective did not converge. You might want to increase the number of iterations. Duality gap: 17482296.397247314, tolerance: 4947558.603948533\n",
      "  model = cd_fast.sparse_enet_coordinate_descent(\n",
      "/Users/opyat-ne-zavoditsya/hse/code/pr/ml/Will_hw/option1/.venv/lib/python3.12/site-packages/sklearn/linear_model/_coordinate_descent.py:656: ConvergenceWarning: Objective did not converge. You might want to increase the number of iterations. Duality gap: 6936198.828754425, tolerance: 4718143.091328981\n",
      "  model = cd_fast.sparse_enet_coordinate_descent(\n",
      "/Users/opyat-ne-zavoditsya/hse/code/pr/ml/Will_hw/option1/.venv/lib/python3.12/site-packages/sklearn/linear_model/_coordinate_descent.py:656: ConvergenceWarning: Objective did not converge. You might want to increase the number of iterations. Duality gap: 18103596.322950363, tolerance: 4947558.603948533\n",
      "  model = cd_fast.sparse_enet_coordinate_descent(\n",
      "/Users/opyat-ne-zavoditsya/hse/code/pr/ml/Will_hw/option1/.venv/lib/python3.12/site-packages/sklearn/linear_model/_coordinate_descent.py:656: ConvergenceWarning: Objective did not converge. You might want to increase the number of iterations. Duality gap: 18664599.054159164, tolerance: 4947558.603948533\n",
      "  model = cd_fast.sparse_enet_coordinate_descent(\n",
      "/Users/opyat-ne-zavoditsya/hse/code/pr/ml/Will_hw/option1/.venv/lib/python3.12/site-packages/sklearn/linear_model/_coordinate_descent.py:656: ConvergenceWarning: Objective did not converge. You might want to increase the number of iterations. Duality gap: 7612545.35641861, tolerance: 4718143.091328981\n",
      "  model = cd_fast.sparse_enet_coordinate_descent(\n",
      "/Users/opyat-ne-zavoditsya/hse/code/pr/ml/Will_hw/option1/.venv/lib/python3.12/site-packages/sklearn/linear_model/_coordinate_descent.py:656: ConvergenceWarning: Objective did not converge. You might want to increase the number of iterations. Duality gap: 19229651.73722458, tolerance: 4947558.603948533\n",
      "  model = cd_fast.sparse_enet_coordinate_descent(\n",
      "/Users/opyat-ne-zavoditsya/hse/code/pr/ml/Will_hw/option1/.venv/lib/python3.12/site-packages/sklearn/linear_model/_coordinate_descent.py:656: ConvergenceWarning: Objective did not converge. You might want to increase the number of iterations. Duality gap: 8281057.065692902, tolerance: 4718143.091328981\n",
      "  model = cd_fast.sparse_enet_coordinate_descent(\n",
      "/Users/opyat-ne-zavoditsya/hse/code/pr/ml/Will_hw/option1/.venv/lib/python3.12/site-packages/sklearn/linear_model/_coordinate_descent.py:656: ConvergenceWarning: Objective did not converge. You might want to increase the number of iterations. Duality gap: 8932969.112062454, tolerance: 4718143.091328981\n",
      "  model = cd_fast.sparse_enet_coordinate_descent(\n",
      "/Users/opyat-ne-zavoditsya/hse/code/pr/ml/Will_hw/option1/.venv/lib/python3.12/site-packages/sklearn/linear_model/_coordinate_descent.py:656: ConvergenceWarning: Objective did not converge. You might want to increase the number of iterations. Duality gap: 18843678.37266922, tolerance: 4947558.603948533\n",
      "  model = cd_fast.sparse_enet_coordinate_descent(\n",
      "/Users/opyat-ne-zavoditsya/hse/code/pr/ml/Will_hw/option1/.venv/lib/python3.12/site-packages/sklearn/linear_model/_coordinate_descent.py:656: ConvergenceWarning: Objective did not converge. You might want to increase the number of iterations. Duality gap: 9550866.529067993, tolerance: 4718143.091328981\n",
      "  model = cd_fast.sparse_enet_coordinate_descent(\n",
      "/Users/opyat-ne-zavoditsya/hse/code/pr/ml/Will_hw/option1/.venv/lib/python3.12/site-packages/sklearn/linear_model/_coordinate_descent.py:656: ConvergenceWarning: Objective did not converge. You might want to increase the number of iterations. Duality gap: 18888788.487199783, tolerance: 4947558.603948533\n",
      "  model = cd_fast.sparse_enet_coordinate_descent(\n",
      "/Users/opyat-ne-zavoditsya/hse/code/pr/ml/Will_hw/option1/.venv/lib/python3.12/site-packages/sklearn/linear_model/_coordinate_descent.py:656: ConvergenceWarning: Objective did not converge. You might want to increase the number of iterations. Duality gap: 5130660.273134232, tolerance: 4760756.484571621\n",
      "  model = cd_fast.sparse_enet_coordinate_descent(\n",
      "/Users/opyat-ne-zavoditsya/hse/code/pr/ml/Will_hw/option1/.venv/lib/python3.12/site-packages/sklearn/linear_model/_coordinate_descent.py:656: ConvergenceWarning: Objective did not converge. You might want to increase the number of iterations. Duality gap: 5945349.323699951, tolerance: 4760756.484571621\n",
      "  model = cd_fast.sparse_enet_coordinate_descent(\n",
      "/Users/opyat-ne-zavoditsya/hse/code/pr/ml/Will_hw/option1/.venv/lib/python3.12/site-packages/sklearn/linear_model/_coordinate_descent.py:656: ConvergenceWarning: Objective did not converge. You might want to increase the number of iterations. Duality gap: 10040411.805339813, tolerance: 4718143.091328981\n",
      "  model = cd_fast.sparse_enet_coordinate_descent(\n",
      "/Users/opyat-ne-zavoditsya/hse/code/pr/ml/Will_hw/option1/.venv/lib/python3.12/site-packages/sklearn/linear_model/_coordinate_descent.py:656: ConvergenceWarning: Objective did not converge. You might want to increase the number of iterations. Duality gap: 5660705.032659531, tolerance: 4747399.0199491335\n",
      "  model = cd_fast.sparse_enet_coordinate_descent(\n",
      "/Users/opyat-ne-zavoditsya/hse/code/pr/ml/Will_hw/option1/.venv/lib/python3.12/site-packages/sklearn/linear_model/_coordinate_descent.py:656: ConvergenceWarning: Objective did not converge. You might want to increase the number of iterations. Duality gap: 10502064.22533226, tolerance: 4718143.091328981\n",
      "  model = cd_fast.sparse_enet_coordinate_descent(\n",
      "/Users/opyat-ne-zavoditsya/hse/code/pr/ml/Will_hw/option1/.venv/lib/python3.12/site-packages/sklearn/linear_model/_coordinate_descent.py:656: ConvergenceWarning: Objective did not converge. You might want to increase the number of iterations. Duality gap: 6748594.817440033, tolerance: 4760756.484571621\n",
      "  model = cd_fast.sparse_enet_coordinate_descent(\n",
      "/Users/opyat-ne-zavoditsya/hse/code/pr/ml/Will_hw/option1/.venv/lib/python3.12/site-packages/sklearn/linear_model/_coordinate_descent.py:656: ConvergenceWarning: Objective did not converge. You might want to increase the number of iterations. Duality gap: 7002609.524026871, tolerance: 4747399.0199491335\n",
      "  model = cd_fast.sparse_enet_coordinate_descent(\n",
      "/Users/opyat-ne-zavoditsya/hse/code/pr/ml/Will_hw/option1/.venv/lib/python3.12/site-packages/sklearn/linear_model/_coordinate_descent.py:656: ConvergenceWarning: Objective did not converge. You might want to increase the number of iterations. Duality gap: 7539918.315271378, tolerance: 4760756.484571621\n",
      "  model = cd_fast.sparse_enet_coordinate_descent(\n",
      "/Users/opyat-ne-zavoditsya/hse/code/pr/ml/Will_hw/option1/.venv/lib/python3.12/site-packages/sklearn/linear_model/_coordinate_descent.py:656: ConvergenceWarning: Objective did not converge. You might want to increase the number of iterations. Duality gap: 11049197.382219315, tolerance: 4718143.091328981\n",
      "  model = cd_fast.sparse_enet_coordinate_descent(\n",
      "/Users/opyat-ne-zavoditsya/hse/code/pr/ml/Will_hw/option1/.venv/lib/python3.12/site-packages/sklearn/linear_model/_coordinate_descent.py:656: ConvergenceWarning: Objective did not converge. You might want to increase the number of iterations. Duality gap: 8160097.978782654, tolerance: 4747399.0199491335\n",
      "  model = cd_fast.sparse_enet_coordinate_descent(\n",
      "/Users/opyat-ne-zavoditsya/hse/code/pr/ml/Will_hw/option1/.venv/lib/python3.12/site-packages/sklearn/linear_model/_coordinate_descent.py:656: ConvergenceWarning: Objective did not converge. You might want to increase the number of iterations. Duality gap: 8298029.246137619, tolerance: 4760756.484571621\n",
      "  model = cd_fast.sparse_enet_coordinate_descent(\n",
      "/Users/opyat-ne-zavoditsya/hse/code/pr/ml/Will_hw/option1/.venv/lib/python3.12/site-packages/sklearn/linear_model/_coordinate_descent.py:656: ConvergenceWarning: Objective did not converge. You might want to increase the number of iterations. Duality gap: 11588668.121749878, tolerance: 4718143.091328981\n",
      "  model = cd_fast.sparse_enet_coordinate_descent(\n",
      "/Users/opyat-ne-zavoditsya/hse/code/pr/ml/Will_hw/option1/.venv/lib/python3.12/site-packages/sklearn/linear_model/_coordinate_descent.py:656: ConvergenceWarning: Objective did not converge. You might want to increase the number of iterations. Duality gap: 9282193.025613785, tolerance: 4747399.0199491335\n",
      "  model = cd_fast.sparse_enet_coordinate_descent(\n",
      "/Users/opyat-ne-zavoditsya/hse/code/pr/ml/Will_hw/option1/.venv/lib/python3.12/site-packages/sklearn/linear_model/_coordinate_descent.py:656: ConvergenceWarning: Objective did not converge. You might want to increase the number of iterations. Duality gap: 10131299.371873856, tolerance: 4760756.484571621\n",
      "  model = cd_fast.sparse_enet_coordinate_descent(\n",
      "/Users/opyat-ne-zavoditsya/hse/code/pr/ml/Will_hw/option1/.venv/lib/python3.12/site-packages/sklearn/linear_model/_coordinate_descent.py:656: ConvergenceWarning: Objective did not converge. You might want to increase the number of iterations. Duality gap: 12084261.60677147, tolerance: 4718143.091328981\n",
      "  model = cd_fast.sparse_enet_coordinate_descent(\n",
      "/Users/opyat-ne-zavoditsya/hse/code/pr/ml/Will_hw/option1/.venv/lib/python3.12/site-packages/sklearn/linear_model/_coordinate_descent.py:656: ConvergenceWarning: Objective did not converge. You might want to increase the number of iterations. Duality gap: 10364768.843667984, tolerance: 4747399.0199491335\n",
      "  model = cd_fast.sparse_enet_coordinate_descent(\n",
      "/Users/opyat-ne-zavoditsya/hse/code/pr/ml/Will_hw/option1/.venv/lib/python3.12/site-packages/sklearn/linear_model/_coordinate_descent.py:656: ConvergenceWarning: Objective did not converge. You might want to increase the number of iterations. Duality gap: 4899599.3898181915, tolerance: 4556019.570701208\n",
      "  model = cd_fast.sparse_enet_coordinate_descent(\n",
      "/Users/opyat-ne-zavoditsya/hse/code/pr/ml/Will_hw/option1/.venv/lib/python3.12/site-packages/sklearn/linear_model/_coordinate_descent.py:656: ConvergenceWarning: Objective did not converge. You might want to increase the number of iterations. Duality gap: 6484635.796133041, tolerance: 4556019.570701208\n",
      "  model = cd_fast.sparse_enet_coordinate_descent(\n",
      "/Users/opyat-ne-zavoditsya/hse/code/pr/ml/Will_hw/option1/.venv/lib/python3.12/site-packages/sklearn/linear_model/_coordinate_descent.py:656: ConvergenceWarning: Objective did not converge. You might want to increase the number of iterations. Duality gap: 11671362.08041954, tolerance: 4747399.0199491335\n",
      "  model = cd_fast.sparse_enet_coordinate_descent(\n",
      "/Users/opyat-ne-zavoditsya/hse/code/pr/ml/Will_hw/option1/.venv/lib/python3.12/site-packages/sklearn/linear_model/_coordinate_descent.py:656: ConvergenceWarning: Objective did not converge. You might want to increase the number of iterations. Duality gap: 8015174.589899063, tolerance: 4556019.570701208\n",
      "  model = cd_fast.sparse_enet_coordinate_descent(\n"
     ]
    },
    {
     "name": "stdout",
     "output_type": "stream",
     "text": [
      "Best alpha: 2.2229964825261948\n",
      "1787.4629948598897 1478.2353512953937\n",
      "0.7298118960250517\n"
     ]
    }
   ],
   "source": [
    "lasso = Lasso()\n",
    "params = {'alpha' : np.logspace(0, 1, 50)}\n",
    "grid_search = GridSearchCV(lasso, params, n_jobs=-1)\n",
    "grid_search.fit(X_train, y_train)\n",
    "best_alpha = grid_search.best_params_['alpha']\n",
    "best_model = grid_search.best_estimator_\n",
    "y_train_pred = best_model.predict(X_train)\n",
    "y_test_pred = best_model.predict(X_test)\n",
    "\n",
    "train_rmse = rmse(y_train, y_train_pred)\n",
    "test_rmse = rmse(y_test, y_test_pred)\n",
    "\n",
    "print(f\"Best alpha: {best_alpha}\")\n",
    "print(train_rmse, test_rmse)\n",
    "print(lr.score(X_test, y_test))"
   ]
  },
  {
   "cell_type": "markdown",
   "metadata": {},
   "source": [
    "Lasso results: rmse on train 1787.4629948598897, rmse on test 1478.2353512953937\n",
    "\n",
    "**Score: 0.7298118960250517**"
   ]
  },
  {
   "cell_type": "code",
   "execution_count": 79,
   "metadata": {},
   "outputs": [
    {
     "name": "stdout",
     "output_type": "stream",
     "text": [
      "Best alpha: 4.498432668969445\n",
      "1784.1433499561033 1469.379184523705\n",
      "0.7298118960250517\n"
     ]
    }
   ],
   "source": [
    "ridge = Ridge()\n",
    "params = {'alpha' : np.logspace(0, 1, 50)}\n",
    "grid_search = GridSearchCV(ridge, params, n_jobs=-1)\n",
    "grid_search.fit(X_train, y_train)\n",
    "best_alpha = grid_search.best_params_['alpha']\n",
    "best_model = grid_search.best_estimator_\n",
    "y_train_pred = best_model.predict(X_train)\n",
    "y_test_pred = best_model.predict(X_test)\n",
    "\n",
    "train_rmse = rmse(y_train, y_train_pred)\n",
    "test_rmse = rmse(y_test, y_test_pred)\n",
    "\n",
    "print(f\"Best alpha: {best_alpha}\")\n",
    "print(train_rmse, test_rmse)\n",
    "print(lr.score(X_test, y_test))"
   ]
  },
  {
   "cell_type": "markdown",
   "metadata": {},
   "source": [
    "Ridge results: rmse on train 1784.1433499561033, rmse on test 1469.379184523705\n",
    "\n",
    "**Score: 0.7298118960250517**"
   ]
  },
  {
   "cell_type": "markdown",
   "metadata": {},
   "source": [
    "*SVM*"
   ]
  },
  {
   "cell_type": "code",
   "execution_count": 80,
   "metadata": {},
   "outputs": [
    {
     "name": "stdout",
     "output_type": "stream",
     "text": [
      "3325.377136418297 2743.7954101932137\n",
      "0.06112631196340568\n"
     ]
    }
   ],
   "source": [
    "from sklearn.svm import SVR\n",
    "\n",
    "svr = SVR()\n",
    "svr.fit(X_train, y_train)\n",
    "y_train_pred = svr.predict(X_train)\n",
    "y_test_pred = svr.predict(X_test)\n",
    "\n",
    "train_rmse = rmse(y_train, y_train_pred)\n",
    "test_rmse = rmse(y_test, y_test_pred)\n",
    "\n",
    "print(train_rmse, test_rmse)\n",
    "print(svr.score(X_test, y_test))"
   ]
  },
  {
   "cell_type": "markdown",
   "metadata": {},
   "source": [
    "And last model, Supported Vector, has terrible result: rmse on train data 3325.377136418297, rmst on test data 2743.7954101932137. It means that this model doens't fit to our task.\n",
    "\n",
    "**Score: 0.06112631196340568**"
   ]
  },
  {
   "cell_type": "markdown",
   "metadata": {},
   "source": [
    "***Conclusion***\n",
    "\n",
    "In conclusion lets compare all models we used and sort them by descending of the score value.\n",
    "\n",
    "1) Random Forest: 0.8650746068853646\n",
    "2) XGBoost: 0.8622819008457401\n",
    "3) Native Linear Regression: 0.7298118960250517\n",
    "4) Lasso: 0.7298118960250517\n",
    "5) Ridge: 0.7298118960250517\n",
    "6) SVR: 0.06112631196340568\n",
    "\n",
    "We can notice that best model 2 model for our task with almost the same score are Random Forest and Boosting from XGBoost. All of them have error about 1040-1050 of currency. But actually differs on train data: 497 for Forest and 255 for Boosting. It means that XGBoost better understood train data than Random Forest.\n",
    "Not lets see different statistics about the Price"
   ]
  },
  {
   "cell_type": "code",
   "execution_count": 81,
   "metadata": {},
   "outputs": [
    {
     "data": {
      "text/plain": [
       "count     6485.000000\n",
       "mean      3529.391365\n",
       "std       3280.439167\n",
       "min       1010.000000\n",
       "25%       1210.000000\n",
       "50%       3320.000000\n",
       "75%       4390.000000\n",
       "max      39460.000000\n",
       "Name: Price, dtype: float64"
      ]
     },
     "execution_count": 81,
     "metadata": {},
     "output_type": "execute_result"
    }
   ],
   "source": [
    "y.describe()"
   ]
  },
  {
   "cell_type": "markdown",
   "metadata": {},
   "source": [
    "Mean is 3529, median is 3320, our error is 1050. It's not so bad, but I think, if we remove strings where price is large, the score will become better."
   ]
  }
 ],
 "metadata": {
  "kernelspec": {
   "display_name": ".venv",
   "language": "python",
   "name": "python3"
  },
  "language_info": {
   "codemirror_mode": {
    "name": "ipython",
    "version": 3
   },
   "file_extension": ".py",
   "mimetype": "text/x-python",
   "name": "python",
   "nbconvert_exporter": "python",
   "pygments_lexer": "ipython3",
   "version": "3.12.4"
  }
 },
 "nbformat": 4,
 "nbformat_minor": 2
}
